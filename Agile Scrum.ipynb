{
 "cells": [
  {
   "cell_type": "markdown",
   "id": "3af90845",
   "metadata": {},
   "source": [
    "\n"
   ]
  },
  {
   "cell_type": "markdown",
   "id": "83ffe1ab",
   "metadata": {},
   "source": [
    "# Énoncé du projet"
   ]
  },
  {
   "cell_type": "markdown",
   "id": "88afe661",
   "metadata": {},
   "source": [
    "**Pour rédiger proprement un guide complet sur la méthode agile Scrum, nous allons répondre aux questions suivantes :**"
   ]
  },
  {
   "cell_type": "markdown",
   "id": "ed2224f8",
   "metadata": {},
   "source": [
    "#### 1. Qu’est ce que la méthode Scrum ? Quel est son objectif ?"
   ]
  },
  {
   "cell_type": "markdown",
   "id": "4c50b9b2",
   "metadata": {},
   "source": [
    "La méthode scrum est un framework qui aide les personnes, les équipes et les organisations à trouver des solutions adaptatives et flexibles pour résoudre des problèmes complexes.\n",
    "\n",
    "Scrum est défini comme framework [holistique][1] itératif qui se centralise sur les objectifs communs. Ce dispositif est organisé en cycles de développement répétés auxquels le client et/ou l’utilisateur sont intégrés pour une participation active. \n",
    "\n",
    "Son objectif est d’améliorer la productivité des équipes agiles, tout en assurant un produit fini de qualité et satisfaisant des utilisateurs finaux.\n",
    "\n",
    "[1]: https://dictionnaire.lerobert.com/definition/holistique#:~:text=D%C3%A9finition%20de%20holistique%20%E2%80%8B%E2%80%8B%E2%80%8B%20adjectif%20Qui%20rel%C3%A8ve%20du,qui%20s%27int%C3%A9resse%20%C3%A0%20son%20objet%20dans%20sa%20globalit%C3%A9. \"LeRobert\""
   ]
  },
  {
   "cell_type": "markdown",
   "id": "8ea8f651",
   "metadata": {},
   "source": [
    "#### 2. La méthode Scrum repose sur <span style=\"font-family: arial ; color:red\">des valeurs, des principes et des piliers</span>. Que sont-ils ? Expliquez les."
   ]
  },
  {
   "cell_type": "markdown",
   "id": "c82d375f",
   "metadata": {},
   "source": [
    "<span style = \"font-family:arial\"> Les trois <span style=\"color:red\">**piliers**</span> Scrum : \n",
    "    \n",
    "- <span style=\"color:green\">**Transparence**</span>:\n",
    "> Le processus et le travail émergents doivent être visibles par ceux qui exécutent le travail ainsi que par ceux qui reçoivent le travail. Avec Scrum, les décisions importantes sont basées sur l’état perçu de ses trois artefacts formels. Les artefacts qui ont une faible transparence peuvent conduire à des décisions qui diminuent la valeur et augmentent les risques.\n",
    "<br> La transparence permet l’inspection. L’inspection sans transparence est trompeuse et gaspilleuse.\n",
    "    \n",
    "- <span style=\"color:green\">**Inspection**</span> : \n",
    ">Les artefacts Scrum et les progrès vers les objectifs convenus doivent être inspectés fréquemment et avec diligence pour détecter les écarts ou les problèmes potentiellement indésirables. Pour faciliter l’inspection, Scrum fournit une cadence sous la forme de ses cinq événements.\n",
    "<br>L’inspection permet l’adaptation. Une inspection sans adaptation est considérée comme inutile. Les événements Scrum sont conçus pour provoquer le changement.\n",
    "    \n",
    "- <span style=\"color:green\">**Adaptation**</span>:\n",
    ">Si des aspects d’un procédé s’écartent en dehors des limites acceptables ou si le produit obtenu est inacceptable, le procédé appliqué ou les matériaux produits doivent être ajustés. L’ajustement doit être effectué dès que possible afin de minimiser les écarts supplémentaires.\n",
    "<br>L’adaptation devient plus difficile lorsque les personnes impliquées ne sont pas responsabilisées ou autogérées. Une équipe Scrum est censée s’adapter au moment où elle apprend quelque chose de nouveau grâce à l’inspection.\n",
    "    \n",
    "\n",
    "Les <span style=\"color:red\">**valeurs**</span> Scrum :\n",
    "- <span style=\"color:blue\">**Engagement**</span>\n",
    "- <span style=\"color:blue\">**Concentration**</span>\n",
    "- <span style=\"color:blue\">**Ouverture**</span>\n",
    "- <span style=\"color:blue\">**Respect**</span>\n",
    "- <span style=\"color:blue\">**Courage**</span>\n",
    "\n",
    "L’équipe Scrum s’engage à atteindre ses objectifs et à se soutenir mutuellement. Leur objectif principal est le travail du Sprint pour faire les meilleurs progrès possibles vers ces objectifs. L’équipe Scrum et ses parties prenantes sont ouvertes sur le travail et les défis. Les membres de l’équipe Scrum se respectent mutuellement pour être des personnes compétentes et indépendantes, et sont respectés en tant que tels par les personnes avec lesquelles ils travaillent. Les membres de l’équipe Scrum ont le courage de faire ce qu’il faut, de travailler sur des problèmes difficiles.\n",
    "</span>"
   ]
  },
  {
   "cell_type": "markdown",
   "id": "f1dd7536",
   "metadata": {},
   "source": [
    "#### 3. Toute équipe de méthodes agiles est auto organisée. Comment se <span style=\"color:red\">compose une équipe</span> Scrum ? Expliquez leur rôle et leur importance."
   ]
  },
  {
   "cell_type": "markdown",
   "id": "97235f23",
   "metadata": {},
   "source": [
    "**Product Owner (PO)** : \n",
    "- Le PO réalise des choix fonctionnels, en priorisant le développement d’une fonctionnalité au détriment d’une autre.\n",
    "- Il constitue le Product Backlog qu’il rend transparent, visible et compris.\n",
    "- Garant de la vision du client.\n",
    "\n",
    "Personne ayant la responsabilité de produire et de maintenir à jour le carnet de produit. C'est lui qui détermine les priorités et qui prend les décisions d'orientation du projet.\n",
    "\n",
    "**Scrum Master (SM)** : \n",
    "- Facilitateur du projet et garant de la méthode Scrum.\n",
    "- Il veille à conserver une harmonie au sein de l'équipe et à stimuler la créativité.\n",
    "- Il est le garant de l'avancement du projet (outils de management visuel / événements timeboxés).\n",
    "\n",
    "Membre de l'équipe dont l'objectif principal est de la protéger des perturbations extérieures. Il est complètement transparent pour la communication entre l'équipe et les clients. Il n'a aucun pouvoir hiérarchique sur l'équipe. C'est en revanche un facilitateur pour les problèmes non techniques de l'équipe.\n",
    "\n",
    "**L’équipe de développement (Equipe de dev.)** :\n",
    "- Elle va mettre en œuvre les solutions techniques, réaliser les développements.\n",
    "- Idéalement, elle est stable et est composée de trois à dix personnes.\n",
    "- Elle a le pouvoir de s’auto-gérer.\n",
    "- Elle est pluridisciplinaire et possède toutes les compétences nécessaires pour créer un incrément du produit.\n",
    "\n",
    "L’ équipe de développement est chargée de transformer les besoins exprimés en fonctionnalités utilisables. Les membres de l'équipe peuvent être pluridisciplinaire. Les équipes Scrum efficaces s'organisent de façon autonome et adoptent une attitude du « nous » dans leur approche des projets. Les membres de l'équipe se forment et s'entraident tous afin de garantir la réussite du sprint.\n"
   ]
  },
  {
   "cell_type": "markdown",
   "id": "3b4beba6",
   "metadata": {},
   "source": [
    "#### 4. Un projet organisé par la méthode Scrum est rythmé par un ensemble d'<span style=\"color:red\">événements</span>. Énoncez ces différents événements et expliquez les."
   ]
  },
  {
   "cell_type": "markdown",
   "id": "3bae8d8e",
   "metadata": {},
   "source": [
    " 1) **LE SPRINT PLANNING** : \n",
    " \n",
    "Il s’agit du premier événement (cérémonie/rituel) qui débute une itération en Scrum. C’est une séance de discussions,\n",
    "d’écoute et de prises de décisions collectives. À travers des échanges et négociations, l’équipe va créer le Backlog de sprint contenant toutes les tâches qu’elle s’engage à terminer à la fin du sprint (incrément).\n",
    "Ce backlog de sprint correspond à l’objectif du sprint (Sprint Goal).<br>\n",
    "Le Product Owner présente le Product Backlog et ses User Stories à l’équipe de développement. Il doit également être en\n",
    "mesure de clarifier toutes les questions ou hypothèses de l’équipe.<br>\n",
    "L’équipe donnera ses estimations grâce à un jeu de Planning poker afin de donner les story points (les points d’effort)\n",
    "correspondantes aux user stories.\n",
    " \n",
    "La Planification du Sprint repose sur trois sujet suivantes :\n",
    "\n",
    "Premier sujet : \n",
    "- Pourquoi ce Sprint est-il important ? <br>\n",
    "L'Objectif de Sprint > le « pourquoi »\n",
    "> Le Product Owner propose comment le produit pourrait augmenter sa valeur et son utilité dans le Sprint actuel. Toute l’équipe Scrum collabore ensuite pour définir un objectif de sprint qui explique pourquoi le sprint est important pour les parties prenantes. L’objectif de sprint doit être finalisé avant la fin de la planification de sprint.\n",
    "\n",
    "Deuxième sujet :\n",
    "- Que peut-on livrer comme incrément résultant du Sprint à venir ? <br>\n",
    "L'ensemble des éléments du Product Backlog choisis pour le Sprint > le « quoi »\n",
    "> Lors d’une discussion avec le Product Owner, les développeurs choisissent les éléments du Product Backlog à inclure dans le Sprint actuel. L’équipe Scrum peut affiner ces éléments au cours de ce processus, ce qui augmente la compréhension et la confiance. \n",
    "\n",
    "- Comment sera effectué le travail à livrer et nécessaire pour achever l‘incrément ?<br>\n",
    "Le plan d'action pour la réalisation de l‘increment > le « comment ».\n",
    "> Pour chaque élément product backlog sélectionné, les développeurs planifient le travail nécessaire pour créer un incrément qui répond à la définition de Terminé. Cela se fait souvent en décomposant les éléments du Backlog produit en éléments de travail plus petits d’un jour ou moins.\n",
    "\n",
    " \n",
    " 2) **LE DAILY SCRUM** : \n",
    " \n",
    "\n",
    "\n",
    "Le Daily Scrum est une réunion de quotidienne 15 minutes de l’équipe Scrum. Les Scrums quotidiens améliorent les communications, identifient les obstacles, favorisent une prise de décision rapide et, par conséquent, éliminent le besoin d’autres réunions. Cela crée de la concentration et améliore l’autogestion. <br>\n",
    "Le but du Daily Scrum est d’inspecter les progrès vers l’objectif de sprint, de résoudre les points bloquants et d’adapter le Sprint Backlog si nécessaire, en ajustant le travail prévu à venir.\n",
    "\n",
    "Chacun répond à 3 questions :\n",
    "1. Ce que j’ai fait hier\n",
    "2. Ce que je dois faire aujourd’hui\n",
    "3. Points de blocage\n",
    " \n",
    " \n",
    " 3) **LA REVIEW**\n",
    " \n",
    "\n",
    "Le but de Sprint Review est d’**inspecter** le résultat du sprint et de déterminer les **adaptations** futures. L’équipe Scrum présente les résultats de son travail aux principales parties prenantes et les progrès vers l’objectif du produit sont discutés.<br>\n",
    "C’est le Product Owner qui anime cette reuninon, et elle dure une heure maximum.\n",
    " \n",
    "\n",
    "4) **LA RETROSPECTIVE**\n",
    "\n",
    "L’équipe Scrum inspecte le déroulement du dernier Sprint en ce qui concerne les **individus**, les **interactions**, les **processus**, les **outils** et leur **définition d'un travail terminé**.  Les hypothèses qui les ont égarés sont identifiées et leurs origines explorées. L’équipe Scrum discute de ce qui s’est bien passé pendant le Sprint, des problèmes rencontrés et de la façon dont ces problèmes ont été (ou n’ont pas été) résolus.<br>\n",
    "Ce rituel offre à l’équipe un espace où les membres peuvent réfléchir librement au fonctionnement de l’équipe et à la\n",
    "manière de s’améliorer.\n",
    "\n",
    "\n",
    "Le but de la rétrospective Sprint est de planifier des moyens d’augmenter la qualité et l’efficacité.\n",
    "\n",
    "\n",
    "Elle est menée par le Scrum Master et s'organise généralement en 5 étapes :\n",
    "\n",
    "   - **Set the stage**: prendre la température des participants via un vote\n",
    "   - **Gather data** : liste le ressenti de l'équipe, les problèmes, les points positifs, les émotions qui l'ont marquée pendant le sprint\n",
    "   - **Generate insights** : brainstorming sur la perception et les causes des obstacles évoqués précédemment\n",
    "   - **Decide what to do** : générer des actions à appliquer lors du sprint suivant pour tenter de s’améliorer\n",
    "   - **Close the retrospective** : marque la fin de la réunion > un vote ROTI (Return On Time Invested) pour indiquer le degré de satisfaction sur la satisfaction/ le temps consacré à la rétrospective.\n",
    "   \n",
    "![](https://i0.wp.com/toolapp.fr/wp-content/uploads/2020/06/AgileSCRUM.png?w=1900&ssl=1)\n",
    "   \n",
    "![](https://www.bing.com/images/search?view=detailV2&ccid=GvF430un&id=42271D395BC182EDAF90DC726C0689D7EE9D7054&thid=OIP.GvF430unGL3dbNnvFcS5ngHaCw&mediaurl=https%3a%2f%2fbubbleplan.net%2fblog%2fwp-content%2fuploads%2f2018%2f05%2f430.jpeg&cdnurl=https%3a%2f%2fth.bing.com%2fth%2fid%2fR.1af178df4ba718bddd6cd9ef15c4b99e%3frik%3dVHCd7teJBmxy3A%26pid%3dImgRaw%26r%3d0&exph=762&expw=2048&q=Schema+Agile+Scrum&simid=608038816931931102&FORM=IRPRST&ck=5001D3765AC0190F0EBA4CA4341BE4D4&selectedIndex=12&ajaxhist=0&ajaxserp=0)"
   ]
  },
  {
   "cell_type": "markdown",
   "id": "9fe0755d",
   "metadata": {},
   "source": [
    "#### 5. Donnez les <span style=\"color:red\">artefacts </span>et <span style = \"color : red\">outils</span> de la <span style = \"color : red\">méthode Scrum</span>. Les artefacts désignent des <span style = \"color : red\">produits ayant subi des transformations durant la gestion du projet</span>.\n"
   ]
  },
  {
   "cell_type": "markdown",
   "id": "d409397b",
   "metadata": {},
   "source": [
    "**PRODUCT BACKLOG** \n",
    "Le Product Backlog est un élément clé en Scrum, c’est la zone de jeu du Product Owner qui le gère et l’actualise car en relations directe avec les clients. Le Backlog est le coeur central de tout produit développé en Scrum. Il permet de collecter les attentes clients (user stories) qui serviront de panier dans lequel piocher pour la planification des sprints. Même s'il est suivi par le Product Owner, il doit être facilement partagé avec l’équipe de développement.\n",
    "\n",
    "**Sprint Backlog**\n",
    "Le Sprint Backlog est composé de l’objectif sprint (pourquoi), de l’ensemble des éléments Product Backlog sélectionnés pour le Sprint (quoi), ainsi que d’un plan d’action pour la livraison de l’incrément (comment).\n",
    "\n",
    "Le Sprint Backlog est un plan par et pour les développeurs. Il s’agit d’une image très visible et en temps réel du travail que les développeurs prévoient d’accomplir pendant le sprint afin d’atteindre l’objectif du sprint. Par conséquent, le Sprint Backlog est mis à jour tout au long du Sprint au fur et à mesure que l’on en apprend davantage. Il devrait avoir suffisamment de détails pour qu’ils puissent inspecter leurs progrès dans le Daily Scrum.\n",
    "\n",
    "**RELEASE**\n",
    "Une release ou version en français, correspond à la livraison d’une version du produit fourni aux utilisateurs. On parle également de release pour considérer la période de temps qui va du début du travail sur cette version jusqu’à sa livraison et qui passe par une série de sprints successifs. Une release est le fruit de plusieurs sprints.\n",
    "\n",
    "\n",
    "**SPRINT**\n",
    "Un sprint est un intervalle de temps court (1 mois maximum), souvent appelé itération, pendant lequel l’équipe de développement va concevoir, réaliser et tester de nouvelles fonctionnalités. En Scrum, un sprint est souvent de 2 semaines. Plusieurs sprints forment une release."
   ]
  },
  {
   "cell_type": "markdown",
   "id": "6fcf4fde",
   "metadata": {},
   "source": [
    "**Les <span style = \"color : red\">outils</span> pour l’équipe Scrum :**\n",
    "\n",
    "**UN MUR DÉGAGÉ DANS L’ESPACE DE TRAVAIL DE L’ÉQUIPE**\n",
    "Vous allez devoir créer un grand tableau avec des colonnes, représentant les différents status de vos activités.\n",
    "\n",
    "![](https://www.datocms-assets.com/17507/1613738384-image1.jpg?fit=max&fm=webp&q=60&w=736)\n",
    "\n",
    "\n",
    "**DES POST-IT ET DE GROS STYLOS**\n",
    "Les « must-have » pour Scrum. Un post-it = une activité. Elles devront être écrites de façon très synthétique et visible de loin.\n",
    "\n",
    "**Burn down chart/** : Graphique permettant de suivre les avancées du sprint.<br>\n",
    "En abscisse : le temps / En ordonnée : les points.<br>\n",
    "Les points réalisés sont décomptés quotidiennement et reportés sur le graphique.\n",
    "L'idéal (ici la ligne bleue) est d'arriver à zéro point le dernier jour du sprint.\n",
    "\n",
    "![](https://thierry-leriche-dessirier.developpez.com/tutoriels/general/memento-scrum-destination-equipe/images/burndown2.jpg)\n",
    "\n",
    "\n",
    "**LE LIVRE « SCRUM ET XP DEPUIS LES TRANCHÉES »**\n",
    "La bible de Jeff Sutherland, le co-créateur de la méthode agile Scrum, traduit par Henrik Kniberg, vous fournira de vraies pistes pour mettre en place Scrum au sein de vos équipes. Un retour d’expérience incontournable pour débuter, que vous soyez accompagné ou pas par un coach agile."
   ]
  },
  {
   "cell_type": "markdown",
   "id": "6e53c512",
   "metadata": {},
   "source": [
    "#### 6. Définissez de manière  <span style = \"color : red\">claire et concise</span>, les mots clés suivants : user story, story points, la DoD, un Burndown chart et la méthode Kanban."
   ]
  },
  {
   "cell_type": "markdown",
   "id": "4e422173",
   "metadata": {},
   "source": [
    "**User story** : La traduction littérale de « User Story » est « Histoire Utilisateur ». Cette lecture en français aide à comprendre l’intention de ce terme. Il ne s’agit pas d’une tâche, il ne s’agit pas vraiment d’une spécification. Il s’agit de l’énonciation d’une attente utilisateur. C’est pour cela qu’en Scrum, les User Stories sont narrées selon un format défini tel que:\n",
    "En tant que (persona), je souhaite (expression du souhait), afin de (but à atteindre).\n",
    "Ce qui donne par exemple: En tant qu’internaute, je souhaite pouvoir supprimer un article de mon panier afin de le mettre à jour.\n",
    "\n",
    "**Story points** : Les stories points sont des unités d’estimation du travail. Ils servent à estimer l’effort nécessaire pour réaliser une fonctionnalité. Attention, il ne s’agit pas de jour/homme, ni de délai de réalisation. Le story point est une mesure arbitraire fixée par l’équipe. Il peut prendre différentes formes: Taille de T-shirt (XS, S, M, L, XL), chiffres de 1 à 10…\n",
    "\n",
    "**DoD** : L'ensemble des conditions nécessaires pour considérer qu'un élément de carnet de produit est livrable. Sa définition varie selon les équipes, mais elle doit être la même pour tous les membres d'une équipe Scrum ;\n",
    "\n",
    "**Burndown chart**: Graphique qui représente l'évolution du reste à faire total de jour en jour (pour les sprints) ou de sprint en sprint (pour les nouvelles éditions).\n",
    "\n",
    "**Méthode Kanban** : Kanban est un framework populaire Agile. Il repose sur un travail effectué en toute transparence et une communication en temps réel de la capacité. Les tâches sont représentées visuellement sur un tableau Kanban. Ainsi, les membres de l'équipe peuvent voir l'état de chaque tâche à tout moment.\n"
   ]
  },
  {
   "cell_type": "markdown",
   "id": "c3ecf1c3",
   "metadata": {},
   "source": [
    "#### 7. Étant très impressionné par la puissance et l’efficacité de la méthode Scrum, vous décidez d’<span style = \"color : red\">argumenter son utilisation</span> aux autres étudiants."
   ]
  },
  {
   "cell_type": "markdown",
   "id": "fab2ab65",
   "metadata": {},
   "source": [
    "\n",
    "La méthode Scrum est un ensemble de pratique répondant aux manifestes Agile. Elle est le framework le plus utilisé par les équipes de développement. Ses principes et outils sont valables pour tout type de travail en équipe. Elle resserre les liens sociaux des équipes et booste leur productivité. Avec Scrum, le client est au cœur du projet. Le produit fini doit non seulement être de bonne qualité, mais aussi  répondre aux attentes  du client dans la limite du possible. \n",
    "La méthode Scrum se construit sur la base de 3 piliers : la transparence, l'inspection et l'adaptation. Les parties prenantes suivent en temps réel l'avancée du projet, valident sa qualité et peuvent porter des améliorations si nécessaire. \n",
    "\n",
    "L'organisation de tâches complexes en user stories gérables en fait la méthodologie idéale pour les projets complexes. Par ailleurs, la démarcation claire des rôles et les événements planifiés garantissent la transparence et la responsabilité collective tout au long du cycle de développement. Les livraisons rapides maintiennent la motivation de l'équipe et la satisfaction des utilisateurs a un niveau élevé, car il est possible de voir l'avancement dans un bref laps de temps.\n",
    "\n",
    "\n",
    "Cependant, la méthode Scrum est compliqué à mettre en place par les équipes habituées par les modèles en cascade. Ses réunions hebdomadaires peuvent être mal vu par certains membres de l'équipe. \n",
    "La parfaite compréhension de Scrum peut prendre un certain temps, en particulier si l'équipe de développement est habituée à un modèle en cascade classique. \n",
    "La méthode Scrum peut avoir moins d'impact si le client est distant du projet, donne moins de feedback. Avec Scrum, on ne peut pas estimer le coût chiffré projet. \n",
    "\n",
    "Toutefois, les avantages à long terme prévalent nettement sur la courbe d'apprentissage initiale. Le succès de Scrum dans le développement de produits matériels et logiciels complexes, quels que soient le secteur et le marché, en fait un framework attrayant à adopter pour votre organisation.\n",
    "\n"
   ]
  },
  {
   "cell_type": "markdown",
   "id": "c106aa6f",
   "metadata": {},
   "source": [
    "\n",
    "<nav>\n",
    "Source :\n",
    "<a href = \"https://scrumguides.org/scrum-guide.html#purpose-of-the-scrum-guide\">Scrum guides Ang</a> \n",
    "<a href =\"https://scrumguides.org/docs/scrumguide/v2020/2020-Scrum-Guide-French.pdf\"> Guide Scrun Fr </a>|\n",
    "<a href = \"https://www.tuleap.org/fr/agile/comprendre-methode-agile-scrum-10-minutes#Scrum-cest-quoi \">Tuleap</a> |\n",
    "<a href = \"https://fr.wikipedia.org/wiki/Scrum_(d%C3%A9veloppement)\">wikipedia</a> |\n",
    "<a href = \"https://www.atlassian.com/fr/agile/scrum\">Atlassian</a> |\n",
    "\n",
    "</nav>\n"
   ]
  },
  {
   "cell_type": "markdown",
   "id": "b328dd8d",
   "metadata": {},
   "source": [
    "///////////////////////////////////////////////////\\\\\\\\\\\\\\\\\\\\\\\\\\\\\\\\\\\\\\\\\\\\\\\\\\\\\\\\\\\\\\\\\\\\\\\\\\\\\\\\\\\\\\\\\\\\\\\\\\\\\\\\\\\\ Bahassan SOULE AHAMADA IA2 LaPlateforme///////////////////////////////////////////////////\\\\\\\\\\\\\\\\\\\\\\\\\\\\\\\\\\\\\\\\\\\\\\\\\\\\\\\\\\\\\\\\\\\\\\\\\\\\\\\\\\\\\\\\\\\\\\\\\\\\\\\\\\\\\\\\\\\\\\\\\\\\\\\\\\\\\\\\\\\\\\\\\\\\\\\\\\\\\\\\\\\\\\\\\\\\\\\\\\\n"
   ]
  }
 ],
 "metadata": {
  "kernelspec": {
   "display_name": "Python 3",
   "language": "python",
   "name": "python3"
  },
  "language_info": {
   "codemirror_mode": {
    "name": "ipython",
    "version": 3
   },
   "file_extension": ".py",
   "mimetype": "text/x-python",
   "name": "python",
   "nbconvert_exporter": "python",
   "pygments_lexer": "ipython3",
   "version": "3.8.8"
  }
 },
 "nbformat": 4,
 "nbformat_minor": 5
}
